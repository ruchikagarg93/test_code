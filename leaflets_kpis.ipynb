{
 "cells": [
  {
   "cell_type": "code",
   "execution_count": null,
   "metadata": {},
   "outputs": [],
   "source": [
    "import pandas as pd\n",
    "\n",
    "df = pd.read_csv('data.csv', sep=',')\n",
    "\n",
    "df.columns"
   ]
  },
  {
   "cell_type": "code",
   "execution_count": null,
   "metadata": {},
   "outputs": [],
   "source": [
    "df.iloc[0]"
   ]
  },
  {
   "cell_type": "code",
   "execution_count": null,
   "metadata": {},
   "outputs": [],
   "source": [
    "metrics_retailer = {}\n",
    "\n",
    "for i, row in df.iterrows():\n",
    "    retailer = row[\"tag_value\"]\n",
    "    week = row[\"week\"]\n",
    "    metric_name = row[\"metrics_object.metric_name\"]\n",
    "    metric_value = row[\"metrics_object.metric_value\"]\n",
    "    if not (retailer, week) in metrics_retailer.keys():\n",
    "        metrics_retailer[(retailer, week)] = { metric_name: [metric_value]}\n",
    "    else:\n",
    "        if not metric_name in metrics_retailer[(retailer, week)].keys():\n",
    "            metrics_retailer[(retailer, week)][metric_name] = [metric_value]\n",
    "        else:\n",
    "            metrics_retailer[(retailer, week)][metric_name].append(metric_value)"
   ]
  },
  {
   "cell_type": "code",
   "execution_count": null,
   "metadata": {},
   "outputs": [],
   "source": [
    "metrics = []\n",
    "for i in metrics_retailer.keys():\n",
    "    for metric in metrics_retailer[i].keys():\n",
    "        if not metric in metrics:\n",
    "            metrics.append(metric)\n",
    "        metrics_retailer[i][metric] = round(sum(metrics_retailer[i][metric]) / len(metrics_retailer[i][metric]), 2)"
   ]
  },
  {
   "cell_type": "code",
   "execution_count": null,
   "metadata": {},
   "outputs": [],
   "source": [
    "for i in metrics_retailer.keys():\n",
    "    print(i)"
   ]
  },
  {
   "cell_type": "code",
   "execution_count": null,
   "metadata": {},
   "outputs": [],
   "source": [
    "metrics = sorted(metrics)\n",
    "columns = [\"retailer\", \"week\"] + metrics\n",
    "columns"
   ]
  },
  {
   "cell_type": "code",
   "execution_count": null,
   "metadata": {},
   "outputs": [],
   "source": [
    "all_content = []\n",
    "for i in metrics_retailer.keys():\n",
    "    retailer = i[0]\n",
    "    week = i[1]\n",
    "    row = [retailer, week]\n",
    "    for metric in metrics:\n",
    "        try:\n",
    "            row.append(metrics_retailer[i][metric])\n",
    "        except:\n",
    "            row.append(None)\n",
    "    all_content.append(row)"
   ]
  },
  {
   "cell_type": "code",
   "execution_count": null,
   "metadata": {},
   "outputs": [],
   "source": [
    "df_output = pd.DataFrame(all_content, columns=columns)\n",
    "df_output.to_csv('output.csv', sep=',', index=False, encoding='utf-8')"
   ]
  }
 ],
 "metadata": {
  "language_info": {
   "name": "python"
  }
 },
 "nbformat": 4,
 "nbformat_minor": 2
}
